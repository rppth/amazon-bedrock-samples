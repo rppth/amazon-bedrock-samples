{
 "cells": [
  {
   "cell_type": "markdown",
   "id": "ab4d9f3c-c2fc-4152-8a55-33dd454ef70f",
   "metadata": {},
   "source": [
    "# Interpret Actuarial Results"
   ]
  },
  {
   "cell_type": "markdown",
   "id": "741a32d2-1da6-44bf-94f1-ac0c6ce064a0",
   "metadata": {},
   "source": [
    "### Setup\n",
    "\n",
    "Run the following setup cell to load the Amazon Bedrock client and define the `get_completion` helper function."
   ]
  },
  {
   "cell_type": "code",
   "execution_count": null,
   "id": "95cd2e56-61ca-4c8c-ac86-05cfb3c2e1cc",
   "metadata": {
    "tags": []
   },
   "outputs": [],
   "source": [
    "# Setup\n",
    "from anthropic import AnthropicBedrock\n",
    "import sample_solution as sample\n",
    "\n",
    "%store -r MODEL_NAME\n",
    "%store -r AWS_REGION\n",
    "\n",
    "client = AnthropicBedrock(aws_region=AWS_REGION)\n",
    "\n",
    "def get_completion(prompt, system='', prefill=''):\n",
    "    message = client.messages.create(\n",
    "        model=MODEL_NAME,\n",
    "        max_tokens=2000,\n",
    "        temperature=0.0,\n",
    "        messages=[\n",
    "          {\"role\": \"user\", \"content\": prompt},\n",
    "          {\"role\": \"assistant\", \"content\": prefill}\n",
    "        ],\n",
    "        system=system\n",
    "    )\n",
    "    return message.content[0].text"
   ]
  },
  {
   "cell_type": "markdown",
   "id": "355f65dd-f950-46b2-a626-c26a1c85a28a",
   "metadata": {},
   "source": [
    "---"
   ]
  },
  {
   "cell_type": "markdown",
   "id": "dd31ebea-5b1b-4e3e-8287-20d70a964d85",
   "metadata": {},
   "source": [
    "## Challenges\n",
    "\n",
    "For the following challenges, we will be building prompts to interpret and analyze the actuarial data. These actuarial data is used to assess the risk factors and determine appropriate premium rates for desired coverage amount. \n",
    "\n",
    "By leveraging Claude, insurance companies can gain faster insights from actuarial data and potentially enhance the accuracy of their pricing and risk management models.\n",
    "\n",
    "**Note: Not all prompts need every element of the prompt engineering.** We encourage you to play around with and include or disinclude elements and see how it affects Claude's response. It is usually best to use many prompt elements to get your prompt working first, then refine and slim down your prompt afterward."
   ]
  },
  {
   "cell_type": "markdown",
   "id": "d3052e1d-e140-4723-a59b-5a38b5feafa1",
   "metadata": {},
   "source": [
    "### Loading the data\n",
    "\n",
    "We will use synthetic actuarial data that we load from a CSV file."
   ]
  },
  {
   "cell_type": "code",
   "execution_count": null,
   "id": "ed9338ac-2076-4a7a-b294-85c1fafe4f1c",
   "metadata": {
    "tags": []
   },
   "outputs": [],
   "source": [
    "# Read and store the data\n",
    "with open('data/actuarial_data.csv', 'r') as file:\n",
    "    ACTUARIAL_DATA = file.read()\n",
    "\n",
    "# Uncomment the following line to view the data\n",
    "# print(ACTUARIAL_DATA)"
   ]
  },
  {
   "cell_type": "markdown",
   "id": "cc6d9516-04ac-4071-a4ad-d0c54a0100be",
   "metadata": {},
   "source": [
    "### 1. Explain the Actuarial Data in Simple Language"
   ]
  },
  {
   "cell_type": "markdown",
   "id": "71791335-7f11-4fc1-9bfd-003ee0cc6dd6",
   "metadata": {},
   "source": [
    "It's always nice to have some explanation on the data to better understand the analysis of it.\n",
    "\n",
    "**Write a prompt to explain the loaded actuarial data in simple, but valuable language.** Can we make Claude to generate output that is easy enough for someone who has a little bit of exposure to actuarial science to understand the data?\n",
    "\n",
    "Use the variable `ACTUARIAL_DATA` within the prompt to access the data in stored variable."
   ]
  },
  {
   "cell_type": "code",
   "execution_count": null,
   "id": "81a75fbe-912d-42b3-abea-01fc22e1f966",
   "metadata": {
    "tags": []
   },
   "outputs": [],
   "source": [
    "# Prompt\n",
    "prompt = f\"\"\"\n",
    "\n",
    "\"\"\"\n",
    "\n",
    "# Get Claude's response\n",
    "print(get_completion(prompt))"
   ]
  },
  {
   "cell_type": "markdown",
   "id": "2e13c847-1316-4cfa-87f9-7ac8392f62ec",
   "metadata": {
    "tags": []
   },
   "source": [
    "❓ If you want to see a sample prompt for this challenge, run the cell below."
   ]
  },
  {
   "cell_type": "code",
   "execution_count": null,
   "id": "a6ebcac1-8f8c-461c-803f-b54a2d81c93d",
   "metadata": {
    "tags": []
   },
   "outputs": [],
   "source": [
    "print(sample.challenge_1_1_sample_solution)"
   ]
  },
  {
   "cell_type": "markdown",
   "id": "a63c908a-b68c-4b61-92bc-ad613a1f4ae1",
   "metadata": {},
   "source": [
    "### 2. Generate a SQL Query to Calculate the Average A/E Ratio for Smoker vs. Non-smoker."
   ]
  },
  {
   "cell_type": "markdown",
   "id": "41e31aeb-d90b-40e2-8529-1591b020752a",
   "metadata": {},
   "source": [
    "A/E ratio ((Actual/Expected ratio) is crucial for life insurance companies because it provides valuable insights into the accuracy of their pricing calculation and the overall performance of their business.\n",
    "\n",
    "**Write a prompt to generate a general SQL query that will work on any SQL engine to calculate the average A/E ratio for smoker and non-smoker group, and return the higher value** We want to use Claude to analyze how accurate the calculation is for expected mortility of smoker and non-smoker group.\n",
    "\n",
    "Use the variable `ACTUARIAL_DATA` within the prompt to access the data in stored variable."
   ]
  },
  {
   "cell_type": "code",
   "execution_count": null,
   "id": "806d2f7e-7446-44dc-9768-9337cfca77cc",
   "metadata": {
    "tags": []
   },
   "outputs": [],
   "source": [
    "# Prompt\n",
    "prompt = f\"\"\"\n",
    "\n",
    "\"\"\"\n",
    "\n",
    "# Get Claude's response\n",
    "print(get_completion(prompt))"
   ]
  },
  {
   "cell_type": "markdown",
   "id": "dd28c051-f657-4f4e-8359-793369fe526e",
   "metadata": {
    "tags": []
   },
   "source": [
    "**🚀 Bonus challenge: Make Claude to respond within two XML tags, `<query>` and `<explanation>`.** So we would see SQL query within `<query>` tag and explanation of the query within `<explanation>` tag.\n",
    "\n",
    "By formatting the response within pre-defined XML tags, we can make output clearer and also allow end user to reliably extract only the desired contents between XML tags."
   ]
  },
  {
   "cell_type": "code",
   "execution_count": null,
   "id": "91683317-ff19-4c03-ad64-e088fdd657e4",
   "metadata": {},
   "outputs": [],
   "source": [
    "# Prompt\n",
    "prompt = f\"\"\"\n",
    "\n",
    "\"\"\"\n",
    "\n",
    "# Get Claude's response\n",
    "print(get_completion(prompt))"
   ]
  },
  {
   "cell_type": "markdown",
   "id": "b82cd2c6-fc17-422f-8ede-67f16df7b49c",
   "metadata": {},
   "source": [
    "#### Test your query\n",
    "\n",
    "If you want to test your generated query, execute the cell below after pasting your query into `query` variable and inputting your table name from query into `table` variable."
   ]
  },
  {
   "cell_type": "code",
   "execution_count": null,
   "id": "aa47847d-39de-478c-a82d-c2514ecb5fc3",
   "metadata": {
    "tags": []
   },
   "outputs": [],
   "source": [
    "import pandas as pd\n",
    "import sqlite3\n",
    "\n",
    "# Add your query below\n",
    "query = \"\"\"\n",
    "\n",
    "\"\"\"\n",
    "\n",
    "# Add your table name from query below\n",
    "table = \"\"\n",
    "\n",
    "df = pd.read_csv('data/actuarial_data.csv')\n",
    "conn = sqlite3.connect(':memory:')\n",
    "df.to_sql(table, conn, if_exists='replace', index=False)\n",
    "result = pd.read_sql_query(query, conn)\n",
    "conn.close()\n",
    "print(\"-----Execution result-----\")\n",
    "print(result)"
   ]
  },
  {
   "cell_type": "markdown",
   "id": "479a6699-8798-41b8-ade5-2b2174a8a922",
   "metadata": {},
   "source": [
    "❓ If you want to see a sample prompt for this challenge, run the cell below."
   ]
  },
  {
   "cell_type": "code",
   "execution_count": null,
   "id": "6a85ebb1-2331-4520-9e70-b2d4418c7a16",
   "metadata": {
    "tags": []
   },
   "outputs": [],
   "source": [
    "print(sample.challenge_1_2_sample_solution)"
   ]
  },
  {
   "cell_type": "markdown",
   "id": "2faeecc7-0db5-45a8-bedb-30d0d380ec20",
   "metadata": {},
   "source": [
    "### 3. Analyze the A/E Ratio, Coverage, and Premium and Generate Recommendations for Changes.\n",
    "\n",
    "Now that we have learned why A/E ratio is crucial for life insurance companies and also how could we interpret it, let's dive deeper.\n",
    "\n",
    "**Write a prompt to analyze the A/E ratio, coverage, and premium. Then, make it come up with some recommendations based on its analysis.** Let's have Claude identify potential areas of improvement to allow for timely adjustments.\n",
    "\n",
    "Use the variable `ACTUARIAL_DATA` within the prompt to access the data in stored variable."
   ]
  },
  {
   "cell_type": "code",
   "execution_count": null,
   "id": "da1857a0-e05c-496f-83eb-3851cb9fdbbe",
   "metadata": {
    "tags": []
   },
   "outputs": [],
   "source": [
    "# Prompt\n",
    "prompt = f\"\"\"\n",
    "\n",
    "\"\"\"\n",
    "\n",
    "# Get Claude's response\n",
    "print(get_completion(prompt))"
   ]
  },
  {
   "cell_type": "markdown",
   "id": "e64db57e-46f2-4e3f-8704-71c9de3fd627",
   "metadata": {},
   "source": [
    "❓ If you want to see a sample prompt for this challenge, run the cell below."
   ]
  },
  {
   "cell_type": "code",
   "execution_count": null,
   "id": "857f2691-b5a2-4033-bad9-6440e12e8349",
   "metadata": {
    "tags": []
   },
   "outputs": [],
   "source": [
    "print(sample.challenge_1_3_sample_solution)"
   ]
  },
  {
   "cell_type": "markdown",
   "id": "b728c9b7-8caf-44a8-9955-ebd412f4c8e5",
   "metadata": {},
   "source": [
    "### Congrats!\n",
    "\n",
    "If you've solved all challenges, you're ready to move to the next chapter. Happy prompting!"
   ]
  }
 ],
 "metadata": {
  "kernelspec": {
   "display_name": "Python 3 (ipykernel)",
   "language": "python",
   "name": "python3"
  },
  "language_info": {
   "codemirror_mode": {
    "name": "ipython",
    "version": 3
   },
   "file_extension": ".py",
   "mimetype": "text/x-python",
   "name": "python",
   "nbconvert_exporter": "python",
   "pygments_lexer": "ipython3",
   "version": "3.10.11"
  }
 },
 "nbformat": 4,
 "nbformat_minor": 5
}
