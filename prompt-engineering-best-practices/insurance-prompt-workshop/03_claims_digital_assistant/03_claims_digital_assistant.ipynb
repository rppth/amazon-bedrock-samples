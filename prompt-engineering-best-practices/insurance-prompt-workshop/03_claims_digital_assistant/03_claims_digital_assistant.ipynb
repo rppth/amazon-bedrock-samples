{
 "cells": [
  {
   "cell_type": "markdown",
   "id": "11e21b26-0c3b-4786-8ac3-ea446ac6fa32",
   "metadata": {},
   "source": [
    "# Digital Assistant for Claims"
   ]
  },
  {
   "cell_type": "markdown",
   "id": "1b4bd0ae-f38e-4ef7-823e-f1f6ee51245a",
   "metadata": {},
   "source": [
    "### Setup\n",
    "\n",
    "Run the following setup cell to load the Amazon Bedrock client and define the `get_completion` helper function."
   ]
  },
  {
   "cell_type": "code",
   "execution_count": null,
   "id": "252d622a-5a83-4776-9a7d-342e36efc4f0",
   "metadata": {
    "tags": []
   },
   "outputs": [],
   "source": [
    "# Setup\n",
    "from anthropic import AnthropicBedrock\n",
    "import sample_solution as sample\n",
    "\n",
    "%store -r MODEL_NAME\n",
    "%store -r AWS_REGION\n",
    "\n",
    "client = AnthropicBedrock(aws_region=AWS_REGION)\n",
    "\n",
    "def get_completion(prompt, system='', prefill=''):\n",
    "    message = client.messages.create(\n",
    "        model=MODEL_NAME,\n",
    "        max_tokens=2000,\n",
    "        temperature=0.0,\n",
    "        messages=[\n",
    "          {\"role\": \"user\", \"content\": prompt},\n",
    "          {\"role\": \"assistant\", \"content\": prefill}\n",
    "        ],\n",
    "        system=system\n",
    "    )\n",
    "    return message.content[0].text"
   ]
  },
  {
   "cell_type": "markdown",
   "id": "c6e4df6d-2f34-406f-8ec3-38d03a9e334a",
   "metadata": {},
   "source": [
    "---"
   ]
  },
  {
   "cell_type": "markdown",
   "id": "ef636d9a-2d7a-46fe-86c2-8393d4173622",
   "metadata": {
    "tags": []
   },
   "source": [
    "## Challenges\n",
    "\n",
    "For the following challenges, we will be building prompts to assist in insurnace claims. We will build an assistant for claims support agents who directly interact with customers about filed claims.\n",
    "\n",
    "Claude can assist claims support agent by enhancing their efficiency, reducing the risk of oversights, and empowering them to continuously improve their skills to provide positive customer experience and build trust from its policyholders.\n",
    "\n",
    "**Note: Not all prompts need every element of the prompt engineering.** We encourage you to play around with and include or disinclude elements and see how it affects Claude's response. It is usually best to use many prompt elements to get your prompt working first, then refine and slim down your prompt afterward."
   ]
  },
  {
   "cell_type": "markdown",
   "id": "05300c16-5319-41a4-ad87-cb21f2482468",
   "metadata": {},
   "source": [
    "### Loading the data\n",
    "\n",
    "We will use a synthetic call log between claims support agent and the customer who filed for a life insurance claim."
   ]
  },
  {
   "cell_type": "code",
   "execution_count": null,
   "id": "2d60fda5-d01d-4cda-bed2-a93e64d3bf2b",
   "metadata": {
    "tags": []
   },
   "outputs": [],
   "source": [
    "# Read and store the data\n",
    "with open('data/claim_call_log.txt', 'r') as file:\n",
    "    CALL_LOG = file.read()\n",
    "    \n",
    "# Uncomment the following line to view the data\n",
    "# print(CALL_LOG)"
   ]
  },
  {
   "cell_type": "markdown",
   "id": "8f08eb88-558e-44a5-8f70-6735af0d327b",
   "metadata": {},
   "source": [
    "### 1. Perform Sentiment Analysis of the Customer over the Call\n",
    "\n",
    "Let's analyze the emotional tone of the customer as the call progressed to gain business insights from customer's opinions.\n",
    "\n",
    "**Write a prompt to perform sentiment analysis of the customer during the call.** How has it changed as our agent began to address the customer's issue? Is customer feeling better or worse at 4th quarter of the call compared to 1st quarter of the call?\n",
    "\n",
    "Use the variable `CALL_LOG` to access the data in stored variable."
   ]
  },
  {
   "cell_type": "code",
   "execution_count": null,
   "id": "25dc3c28-9185-4ee9-b06d-a25072a9321b",
   "metadata": {},
   "outputs": [],
   "source": [
    "# Prompt\n",
    "prompt = f\"\"\"\n",
    "\n",
    "\"\"\"\n",
    "\n",
    "# Get Claude's response\n",
    "print(get_completion(prompt))"
   ]
  },
  {
   "cell_type": "markdown",
   "id": "95a86e39-a6e5-45a6-8a01-f811d7bd1261",
   "metadata": {},
   "source": [
    "**🚀 Bonus challenge: Make Claude to respond in JSON format with a schema of your choice.** Keys for JSON response could include `quarter`, `sentiment`, `call_summary`, `action_items`, and more based on your preference!\n",
    "\n",
    "By having a response in JSON format, output from Claude can be easily parsed and feed into downstream systems for further analysis or storage."
   ]
  },
  {
   "cell_type": "code",
   "execution_count": null,
   "id": "5f29dc81-9bd9-4a53-8d90-c5ca7b541399",
   "metadata": {},
   "outputs": [],
   "source": [
    "# Prompt\n",
    "prompt = f\"\"\"\n",
    "\n",
    "\"\"\"\n",
    "\n",
    "# Get Claude's response\n",
    "print(get_completion(prompt))"
   ]
  },
  {
   "cell_type": "markdown",
   "id": "823ae44e-62e6-418e-b162-3d2569babee1",
   "metadata": {},
   "source": [
    "❓ If you want to see a sample prompt for this challenge, run the cell below."
   ]
  },
  {
   "cell_type": "code",
   "execution_count": null,
   "id": "b5992d15-6c94-42e3-a044-eaf1eaf2d55c",
   "metadata": {
    "tags": []
   },
   "outputs": [],
   "source": [
    "print(sample.challenge_3_1_sample_solution)"
   ]
  },
  {
   "cell_type": "markdown",
   "id": "e59c76e2-cf21-41b1-acb5-fc1c71ddc855",
   "metadata": {},
   "source": [
    "### 2. Gather Feedback on the Agent's Strengths and Areas for Improvement\n",
    "\n",
    "We want to help the support agent to improve continuously by providing them feedback after each call.\n",
    "\n",
    "**Write a prompt to gather feedback from the call on what support agent did well and what could be improved.** Claude can generate feedback and provide it to support agents at scale.\n",
    "\n",
    "Use the variable `CALL_LOG` to access the data in stored variable."
   ]
  },
  {
   "cell_type": "code",
   "execution_count": null,
   "id": "baf27032-7f74-4315-9610-0e6030f1bf44",
   "metadata": {},
   "outputs": [],
   "source": [
    "# Prompt\n",
    "prompt = f\"\"\"\n",
    "\n",
    "\"\"\"\n",
    "\n",
    "# Get Claude's response\n",
    "print(get_completion(prompt))"
   ]
  },
  {
   "cell_type": "markdown",
   "id": "ba50cc2b-5b2e-4279-a4d9-06a49cb02314",
   "metadata": {},
   "source": [
    "❓ If you want to see a sample prompt for this challenge, run the cell below."
   ]
  },
  {
   "cell_type": "code",
   "execution_count": null,
   "id": "70a86049-4d8d-4af9-adef-e3041940c073",
   "metadata": {
    "tags": []
   },
   "outputs": [],
   "source": [
    "print(sample.challenge_3_2_sample_solution)"
   ]
  },
  {
   "cell_type": "markdown",
   "id": "2b853b70-de7c-4041-8f3b-2ed1a72eac8f",
   "metadata": {},
   "source": [
    "### 3. Generate a Summary of the Call and Come Up with the Next Best Steps\n",
    "\n",
    "After the call, we can have Claude to generate the summary of the call and provide next best steps to reduce any oversights.\n",
    "\n",
    "**Write a prompt to summarize the call and list out next best steps for agent.** We can enhance customer's experience with concise summary and clear action items that leads to more focused and effective support for each customer.\n",
    "\n",
    "Use the variable `CALL_LOG` to access the data in stored variable."
   ]
  },
  {
   "cell_type": "code",
   "execution_count": null,
   "id": "0e60bce8-caab-4cf7-92c4-78e1e0f5c92e",
   "metadata": {},
   "outputs": [],
   "source": [
    "# Prompt\n",
    "prompt = f\"\"\"\n",
    "\n",
    "\"\"\"\n",
    "\n",
    "# Get Claude's response\n",
    "print(get_completion(prompt))"
   ]
  },
  {
   "cell_type": "markdown",
   "id": "da1f7b3c-9032-440c-9160-e8c9511d231b",
   "metadata": {},
   "source": [
    "❓ If you want to see a sample prompt for this challenge, run the cell below."
   ]
  },
  {
   "cell_type": "code",
   "execution_count": null,
   "id": "d96e2599-80c0-4680-aab1-b34815ff6a5c",
   "metadata": {
    "tags": []
   },
   "outputs": [],
   "source": [
    "print(sample.challenge_3_3_sample_solution)"
   ]
  },
  {
   "cell_type": "markdown",
   "id": "a90f1bea-2084-458d-8d8e-5329ed0a95ad",
   "metadata": {},
   "source": [
    "### Congrats!\n",
    "\n",
    "If you've solved all the challenges up to this point, congratulations! The techniques you've learned, from thinking step by step to assigning roles to using examples to general all-around clear writing, can be merged, remixed, and adapted in countless ways.\n",
    "\n",
    "Prompt engineering is a very new discipline, so keep an open mind. You could be the one to discover the next great prompting trick. Happy prompting!"
   ]
  }
 ],
 "metadata": {
  "kernelspec": {
   "display_name": "Python 3 (ipykernel)",
   "language": "python",
   "name": "python3"
  },
  "language_info": {
   "codemirror_mode": {
    "name": "ipython",
    "version": 3
   },
   "file_extension": ".py",
   "mimetype": "text/x-python",
   "name": "python",
   "nbconvert_exporter": "python",
   "pygments_lexer": "ipython3",
   "version": "3.10.11"
  }
 },
 "nbformat": 4,
 "nbformat_minor": 5
}
