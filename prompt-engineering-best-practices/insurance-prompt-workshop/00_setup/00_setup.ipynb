{
 "cells": [
  {
   "cell_type": "markdown",
   "id": "dd727c62-8f50-413d-8607-22d52b00472d",
   "metadata": {
    "tags": []
   },
   "source": [
    "# Setup\n",
    "\n",
    "This workshop requires this initial notebook to be run first so that the requirements and environment variables are stored for all notebooks throughout the workshop.\n",
    "\n",
    "* Please execute each of the cell below to install dependencies and store necessary variables.\n",
    "    * In Windows, you can press `ctrl + enter` to execute the selected cell.\n",
    "    * In Mac, you can press `mac + enter` to execute the selected cell."
   ]
  },
  {
   "cell_type": "markdown",
   "id": "a7d8dde1-3ea9-4ee8-8ed1-37cd0c8d94f0",
   "metadata": {},
   "source": [
    "### 1. Install the required dependencies"
   ]
  },
  {
   "cell_type": "code",
   "execution_count": null,
   "id": "dadeda17-85c3-48ff-8bbe-66d43f53502d",
   "metadata": {
    "tags": []
   },
   "outputs": [],
   "source": [
    "%pip install -qU pip\n",
    "%pip install -qr requirements.txt"
   ]
  },
  {
   "cell_type": "markdown",
   "id": "ddfb027a-6715-4962-964e-d5f9bf40b817",
   "metadata": {},
   "source": [
    "### 2. Restart the kernel after installing dependencies"
   ]
  },
  {
   "cell_type": "code",
   "execution_count": null,
   "id": "a3067acb-3ddc-4c8e-8d6e-942fba9f5e71",
   "metadata": {
    "tags": []
   },
   "outputs": [],
   "source": [
    "from IPython.core.display import HTML\n",
    "HTML(\"<script>Jupyter.notebook.kernel.restart()</script>\")"
   ]
  },
  {
   "cell_type": "markdown",
   "id": "3bc9ed7c-81b7-4692-9c18-4f221886d0b0",
   "metadata": {},
   "source": [
    "---"
   ]
  },
  {
   "cell_type": "markdown",
   "id": "8e46d212-5680-4a5a-a47d-c02538b788af",
   "metadata": {},
   "source": [
    "### Usage Notes\n",
    "\n",
    "* This workshop uses **Claude 3 Sonnet** with temperature 0.0 to yield faster and more deterministic results.\n",
    "\n",
    "* When you reach the bottom of a page, navigate to the next numbered folder and open the corresponding notebook."
   ]
  },
  {
   "cell_type": "markdown",
   "id": "dabdbe34-f310-49f8-93c1-edf4a80e8ea2",
   "metadata": {},
   "source": [
    "### The Anthropic SDK & the Messages API\n",
    "\n",
    "We will be using the [Anthropic Python SDK](https://docs.anthropic.com/claude/reference/claude-on-amazon-bedrock) and the [Messages API](https://docs.anthropic.com/claude/reference/messages_post) throughout this workshop.\n",
    "\n",
    "Below is an example of what running a prompt will look like in this tutorial.\n",
    "\n",
    "Please execute the following cells."
   ]
  },
  {
   "cell_type": "markdown",
   "id": "543b0912-732b-43b1-938f-b4a257d4e99a",
   "metadata": {},
   "source": [
    "### 1. Define the region and the model name"
   ]
  },
  {
   "cell_type": "code",
   "execution_count": null,
   "id": "98ec31fa-5e7f-4666-8a85-ae8f152ba8d7",
   "metadata": {
    "tags": []
   },
   "outputs": [],
   "source": [
    "import boto3\n",
    "session = boto3.Session()\n",
    "AWS_REGION = session.region_name\n",
    "print(\"AWS Region:\", AWS_REGION)\n",
    "MODEL_NAME = \"anthropic.claude-3-sonnet-20240229-v1:0\"\n",
    "\n",
    "%store MODEL_NAME\n",
    "%store AWS_REGION"
   ]
  },
  {
   "cell_type": "markdown",
   "id": "5f706782-d2d2-43d8-8fa1-687de69c7093",
   "metadata": {},
   "source": [
    "### 2. Create `get_completion`, which is a helper function that sends a prompt to Claude and returns Claude's generated response"
   ]
  },
  {
   "cell_type": "code",
   "execution_count": null,
   "id": "8e3e97d2-46b0-4cd6-8e5d-63ec5de252f4",
   "metadata": {
    "tags": []
   },
   "outputs": [],
   "source": [
    "from anthropic import AnthropicBedrock\n",
    "\n",
    "client = AnthropicBedrock(aws_region=AWS_REGION)\n",
    "\n",
    "def get_completion(prompt, system=''):\n",
    "    message = client.messages.create(\n",
    "        model=MODEL_NAME,\n",
    "        max_tokens=2000,\n",
    "        temperature=0.0,\n",
    "        messages=[\n",
    "          {\"role\": \"user\", \"content\": prompt}\n",
    "        ],\n",
    "        system=system\n",
    "    )\n",
    "    return message.content[0].text"
   ]
  },
  {
   "cell_type": "markdown",
   "id": "ed75b912-bbd2-4f08-b5e8-487f9e4cef5d",
   "metadata": {},
   "source": [
    "### 3. Test our `get_completion` function"
   ]
  },
  {
   "cell_type": "code",
   "execution_count": null,
   "id": "7566f398-9131-4a74-a03f-c36f41b01f0b",
   "metadata": {
    "tags": []
   },
   "outputs": [],
   "source": [
    "# Prompt\n",
    "prompt = \"Hello, Claude!\"\n",
    "\n",
    "# Get Claude's response\n",
    "print(get_completion(prompt))"
   ]
  },
  {
   "cell_type": "markdown",
   "id": "f1571754-e3bd-465a-b2df-b29a84d53da0",
   "metadata": {},
   "source": [
    "If you faced an error message that says `You don't have access to the model with the specified model ID.`, please make sure that the access for Claude 3 Sonnet is granted from Bedrock console."
   ]
  },
  {
   "cell_type": "markdown",
   "id": "dd76a0e9-c38b-419a-9fba-997b0402e604",
   "metadata": {},
   "source": [
    "### Congrats!\n",
    "\n",
    "If the above cells executed without error, you're ready to move to the next chapter. Happy prompting!"
   ]
  }
 ],
 "metadata": {
  "kernelspec": {
   "display_name": "conda_python3",
   "language": "python",
   "name": "conda_python3"
  },
  "language_info": {
   "codemirror_mode": {
    "name": "ipython",
    "version": 3
   },
   "file_extension": ".py",
   "mimetype": "text/x-python",
   "name": "python",
   "nbconvert_exporter": "python",
   "pygments_lexer": "ipython3",
   "version": "3.10.13"
  }
 },
 "nbformat": 4,
 "nbformat_minor": 5
}
